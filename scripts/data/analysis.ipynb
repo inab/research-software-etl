{
 "cells": [
  {
   "cell_type": "code",
   "execution_count": null,
   "metadata": {},
   "outputs": [],
   "source": [
    "import json"
   ]
  },
  {
   "cell_type": "markdown",
   "metadata": {},
   "source": [
    "# Results analysis \n",
    "\n",
    "## Disambiguation \n",
    "\n",
    "### Converting first output to JSONL"
   ]
  },
  {
   "cell_type": "code",
   "execution_count": 8,
   "metadata": {},
   "outputs": [],
   "source": [
    "def parse_custom_json(file_path):\n",
    "    with open(file_path, 'r') as f:\n",
    "        content = f.read()\n",
    "\n",
    "    # Fix it: wrap in list and separate blocks with commas\n",
    "    fixed_content = \"[\" + content.replace(\"}{\", \"},{\") + \"]\"\n",
    "\n",
    "    return json.loads(fixed_content)\n",
    "\n",
    "def write_jsonl_from_parsed_list(parsed_list, output_path):\n",
    "    with open(output_path, 'w') as f:\n",
    "        for item in parsed_list:\n",
    "            json.dump(item, f)\n",
    "            f.write(\"\\n\")"
   ]
  },
  {
   "cell_type": "code",
   "execution_count": null,
   "metadata": {},
   "outputs": [],
   "source": [
    "result_file_path = './disambiguation_results.json' \n",
    "\n",
    "# Number of conflicts processed \n",
    "parsed_results = parse_custom_json(result_file_path)\n",
    "\n",
    "# Write to clean JSONL format\n",
    "write_jsonl_from_parsed_list(parsed_results, \"disambiguation_results.jsonl\")"
   ]
  },
  {
   "cell_type": "markdown",
   "metadata": {},
   "source": [
    "### Analysis"
   ]
  },
  {
   "cell_type": "code",
   "execution_count": null,
   "metadata": {},
   "outputs": [
    {
     "name": "stdout",
     "output_type": "stream",
     "text": [
      "Solved conflicts: 137\n"
     ]
    }
   ],
   "source": [
    "result_file_path = './disambiguation_results.jsonl' \n",
    "\n",
    "# this function is the code of the disambiguation code too\n",
    "def load_solved_conflict_keys(jsonl_path):\n",
    "    solved_keys = set()\n",
    "    \n",
    "    with open(jsonl_path, 'r') as f:\n",
    "        for line in f:\n",
    "            if line.strip():  # skip empty lines\n",
    "                try:\n",
    "                    entry = json.loads(line)\n",
    "                    key = next(iter(entry))  # assuming one key per top-level dict\n",
    "                    solved_keys.add(key)\n",
    "                except Exception as e:\n",
    "                    print(f\"Error reading line: {line[:100]}...\\n{e}\")\n",
    "    \n",
    "    return solved_keys\n",
    "\n",
    "print(f\"Solved conflicts: {len(load_solved_conflict_keys('disambiguation_results.jsonl'))}\")"
   ]
  },
  {
   "cell_type": "code",
   "execution_count": null,
   "metadata": {},
   "outputs": [],
   "source": []
  }
 ],
 "metadata": {
  "kernelspec": {
   "display_name": "research-software-etl-fEV8L1gB",
   "language": "python",
   "name": "python3"
  },
  "language_info": {
   "codemirror_mode": {
    "name": "ipython",
    "version": 3
   },
   "file_extension": ".py",
   "mimetype": "text/x-python",
   "name": "python",
   "nbconvert_exporter": "python",
   "pygments_lexer": "ipython3",
   "version": "3.11.9"
  }
 },
 "nbformat": 4,
 "nbformat_minor": 2
}
