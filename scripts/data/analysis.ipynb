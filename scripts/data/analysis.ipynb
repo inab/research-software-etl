{
 "cells": [
  {
   "cell_type": "code",
   "execution_count": 13,
   "metadata": {},
   "outputs": [],
   "source": [
    "import json\n",
    "from collections import Counter"
   ]
  },
  {
   "cell_type": "markdown",
   "metadata": {},
   "source": [
    "## Disambiguation "
   ]
  },
  {
   "cell_type": "markdown",
   "metadata": {},
   "source": [
    "\n",
    "### Converting first output to JSONL"
   ]
  },
  {
   "cell_type": "code",
   "execution_count": 8,
   "metadata": {},
   "outputs": [],
   "source": [
    "def parse_custom_json(file_path):\n",
    "    with open(file_path, 'r') as f:\n",
    "        content = f.read()\n",
    "\n",
    "    # Fix it: wrap in list and separate blocks with commas\n",
    "    fixed_content = \"[\" + content.replace(\"}{\", \"},{\") + \"]\"\n",
    "\n",
    "    return json.loads(fixed_content)\n",
    "\n",
    "def write_jsonl_from_parsed_list(parsed_list, output_path):\n",
    "    with open(output_path, 'w') as f:\n",
    "        for item in parsed_list:\n",
    "            json.dump(item, f)\n",
    "            f.write(\"\\n\")"
   ]
  },
  {
   "cell_type": "code",
   "execution_count": null,
   "metadata": {},
   "outputs": [],
   "source": [
    "result_file_path = './disambiguation_results.json' \n",
    "\n",
    "# Number of conflicts processed \n",
    "parsed_results = parse_custom_json(result_file_path)\n",
    "\n",
    "# Write to clean JSONL format\n",
    "write_jsonl_from_parsed_list(parsed_results, \"disambiguation_results.jsonl\")"
   ]
  },
  {
   "cell_type": "markdown",
   "metadata": {},
   "source": [
    "### Analysis"
   ]
  },
  {
   "cell_type": "code",
   "execution_count": 12,
   "metadata": {},
   "outputs": [],
   "source": [
    "def count_verdicts(jsonl_path):\n",
    "    verdict_counter = Counter()\n",
    "\n",
    "    with open(jsonl_path, 'r') as f:\n",
    "        for line in f:\n",
    "            if not line.strip():\n",
    "                continue\n",
    "            try:\n",
    "                entry = json.loads(line)\n",
    "                _, value = next(iter(entry.items()))\n",
    "\n",
    "                if value is not None:\n",
    "                    verdict = value.get(\"verdict\")\n",
    "                    verdict_counter[verdict] += 1\n",
    "            except Exception as e:\n",
    "                print(f\"Error parsing line:\\n{line[:100]}...\\n{e}\")\n",
    "\n",
    "    return verdict_counter"
   ]
  },
  {
   "cell_type": "code",
   "execution_count": 21,
   "metadata": {},
   "outputs": [
    {
     "name": "stdout",
     "output_type": "stream",
     "text": [
      "Verdict counts:\n",
      "  Unclear: 5\n",
      "  No: 28\n",
      "  Yes: 93\n",
      "--------\n",
      "Total processed conflicts: 126\n",
      "Percentage of 'Unclear': 3.97%\n"
     ]
    }
   ],
   "source": [
    "result_file_path = './disambiguation_results.jsonl' \n",
    "verdicts = count_verdicts(result_file_path)\n",
    "\n",
    "print(\"Verdict counts:\")\n",
    "total = 0\n",
    "for verdict, count in verdicts.items():\n",
    "    total += count\n",
    "    print(f\"  {verdict}: {count}\")\n",
    "\n",
    "print('--------')\n",
    "print(f\"Total processed conflicts: {total}\")\n",
    "\n",
    "print(f\"Percentage of 'Unclear': {verdicts['Unclear'] / total * 100:.2f}%\")"
   ]
  }
 ],
 "metadata": {
  "kernelspec": {
   "display_name": "research-software-etl-fEV8L1gB",
   "language": "python",
   "name": "python3"
  },
  "language_info": {
   "codemirror_mode": {
    "name": "ipython",
    "version": 3
   },
   "file_extension": ".py",
   "mimetype": "text/x-python",
   "name": "python",
   "nbconvert_exporter": "python",
   "pygments_lexer": "ipython3",
   "version": "3.11.9"
  }
 },
 "nbformat": 4,
 "nbformat_minor": 2
}
